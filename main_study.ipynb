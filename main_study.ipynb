{
 "cells": [
  {
   "cell_type": "code",
   "execution_count": 127,
   "id": "744faf55-0d84-44ae-a1ef-2f6f03a95f0e",
   "metadata": {},
   "outputs": [
    {
     "name": "stderr",
     "output_type": "stream",
     "text": [
      "C:\\Users\\kohnm\\AppData\\Local\\Programs\\Python\\Python310\\lib\\site-packages\\gradio\\utils.py:840: UserWarning: Expected 1 arguments for function <function display_categories at 0x0000029EF278B520>, received 0.\n",
      "  warnings.warn(\n",
      "C:\\Users\\kohnm\\AppData\\Local\\Programs\\Python\\Python310\\lib\\site-packages\\gradio\\utils.py:844: UserWarning: Expected at least 1 arguments for function <function display_categories at 0x0000029EF278B520>, received 0.\n",
      "  warnings.warn(\n"
     ]
    },
    {
     "name": "stdout",
     "output_type": "stream",
     "text": [
      "Running on local URL:  http://127.0.0.1:7954\n",
      "\n",
      "To create a public link, set `share=True` in `launch()`.\n"
     ]
    },
    {
     "data": {
      "text/html": [
       "<div><iframe src=\"http://127.0.0.1:7954/\" width=\"100%\" height=\"500\" allow=\"autoplay; camera; microphone; clipboard-read; clipboard-write;\" frameborder=\"0\" allowfullscreen></iframe></div>"
      ],
      "text/plain": [
       "<IPython.core.display.HTML object>"
      ]
     },
     "metadata": {},
     "output_type": "display_data"
    },
    {
     "data": {
      "text/plain": []
     },
     "execution_count": 127,
     "metadata": {},
     "output_type": "execute_result"
    },
    {
     "name": "stderr",
     "output_type": "stream",
     "text": [
      "C:\\Users\\kohnm\\AppData\\Local\\Programs\\Python\\Python310\\lib\\site-packages\\gradio\\helpers.py:837: UserWarning: Unexpected argument. Filling with None.\n",
      "  warnings.warn(\"Unexpected argument. Filling with None.\")\n"
     ]
    },
    {
     "name": "stdout",
     "output_type": "stream",
     "text": [
      "             category  level_of_mistake\n",
      "0  Number of features                 0\n",
      "             category  level_of_mistake\n",
      "0  Number of features                 0\n"
     ]
    }
   ],
   "source": [
    "import gradio as gr\n",
    "import pandas as pd\n",
    "import numpy as np\n",
    "from pathlib import Path\n",
    "\n",
    "data_array = [\n",
    "    {\"path\": \"projectReinforcementLearning/images/ap_1.jpg\", \"category\": \"category1\"},\n",
    "    {\"path\": \"projectReinforcementLearning/images/ap_6.jpg\", \"category\": \"category2\"},\n",
    "    # Add more image paths and categories as needed\n",
    "]\n",
    "# Initial index for displaying the first image\n",
    "current_index = 0\n",
    "# Function to update the displayed image and category\n",
    "def update_data():\n",
    "    global current_index\n",
    "    current_index = (current_index + 1) % len(data_array)\n",
    "    return data_array[current_index][\"path\"]#, data_array[current_index][\"category\"]\n",
    "    \n",
    "def save_rating(radio, slider):\n",
    "    \n",
    "    data = [{\n",
    "        \"category\" : radio,\n",
    "        \"level_of_mistake\": slider\n",
    "    }]\n",
    "    \n",
    "    df = pd.DataFrame(data)\n",
    "    print(df)\n",
    "    \n",
    "    path = Path(\"test_csv.csv\")\n",
    "    if path.is_file():\n",
    "        df.to_csv(path, mode='a', header=False, index=False)\n",
    "    else:\n",
    "        df.to_csv(path, mode='a', header=True, index=False)\n",
    "    \n",
    "def display_categories(radio):\n",
    "\n",
    "    categories_radio = gr.Radio([\"Alignement Problems\", \"Incorrect proportions\", \"Number of features\", \"Wrong Aspects\", \"unrealistic\"], interactive=True, visible=True) \n",
    "    slider = gr.Slider(minimum=0, maximum=5, step=1, interactive=True, visible=True)\n",
    "    outputs = [categories_radio, slider]\n",
    "    return outputs\n",
    "  \n",
    "with gr.Blocks() as main:\n",
    "    gr.Markdown(\n",
    "        \"\"\"\n",
    "        # Main study\n",
    "        \n",
    "        \"\"\")\n",
    "    with gr.Column():\n",
    "        \n",
    "        with gr.Row():\n",
    "            image = gr.ImageEditor(\"projectReinforcementLearning/images/ap_1.jpg\")\n",
    "        \n",
    "            \n",
    "            with gr.Column():\n",
    "                gr.Markdown(\n",
    "                    \"\"\"\n",
    "                    # Do you spot any Mistake in this picture?\n",
    "                    \"\"\"\n",
    "                )\n",
    "                yes_button = gr.Button(\"YES\")\n",
    "                # yes_button.click(display_categories, inputs=[], outputs=[gr.Radio(), gr.Slider()])\n",
    "                no_button  = gr.Button(\"NO\")\n",
    "                #radio = gr.Radio([\"YES\", \"NO\"], label=\"Select\")   \n",
    "                \n",
    "                \n",
    "                \n",
    "                categories_radio = gr.Radio(visible=False)\n",
    "                \n",
    "                slider = gr.Slider(visible=False)\n",
    "\n",
    "                yes_button.click(display_categories, \n",
    "                     inputs=[],\n",
    "                     outputs=[categories_radio, slider]\n",
    "                )\n",
    "                \n",
    "\n",
    "                submit_button = gr.Button(\"Submit\")\n",
    "    \n",
    "        gr.Textbox(label=\"Promt\", value=\"this is the promt\")\n",
    "             \n",
    "            \n",
    "    \n",
    "    next = gr.Button(\"Next\")\n",
    "    next.click()\n",
    "    \n",
    "    \n",
    "    no_button.click(fn=update_data, inputs=[], outputs=[image])\n",
    "\n",
    "    submit_button.click(\n",
    "        fn=save_rating,\n",
    "        inputs=[categories_radio, slider],\n",
    "        outputs=[]\n",
    "    )\n",
    "    \n",
    "\n",
    "\n",
    "main.launch(inbrowser=True)"
   ]
  },
  {
   "cell_type": "code",
   "execution_count": 138,
   "id": "6a033e63-caff-4fb6-b4f1-aa2eddc68415",
   "metadata": {},
   "outputs": [
    {
     "name": "stderr",
     "output_type": "stream",
     "text": [
      "C:\\Users\\kohnm\\AppData\\Local\\Programs\\Python\\Python310\\lib\\site-packages\\gradio\\utils.py:840: UserWarning: Expected 1 arguments for function <function display_categories at 0x0000029EF53CF400>, received 0.\n",
      "  warnings.warn(\n",
      "C:\\Users\\kohnm\\AppData\\Local\\Programs\\Python\\Python310\\lib\\site-packages\\gradio\\utils.py:844: UserWarning: Expected at least 1 arguments for function <function display_categories at 0x0000029EF53CF400>, received 0.\n",
      "  warnings.warn(\n"
     ]
    },
    {
     "ename": "TypeError",
     "evalue": "Tab.__init__() got an unexpected keyword argument 'interactive'",
     "output_type": "error",
     "traceback": [
      "\u001b[1;31m---------------------------------------------------------------------------\u001b[0m",
      "\u001b[1;31mTypeError\u001b[0m                                 Traceback (most recent call last)",
      "Cell \u001b[1;32mIn[138], line 96\u001b[0m\n\u001b[0;32m     90\u001b[0m         submit_button\u001b[38;5;241m.\u001b[39mclick(\n\u001b[0;32m     91\u001b[0m             fn\u001b[38;5;241m=\u001b[39msave_rating,\n\u001b[0;32m     92\u001b[0m             inputs\u001b[38;5;241m=\u001b[39m[categories_radio, slider],\n\u001b[0;32m     93\u001b[0m             outputs\u001b[38;5;241m=\u001b[39m[]\n\u001b[0;32m     94\u001b[0m         )\n\u001b[0;32m     95\u001b[0m     test \u001b[38;5;241m=\u001b[39m \u001b[38;5;28;01mTrue\u001b[39;00m\n\u001b[1;32m---> 96\u001b[0m     \u001b[38;5;28;01mwith\u001b[39;00m \u001b[43mgr\u001b[49m\u001b[38;5;241;43m.\u001b[39;49m\u001b[43mTab\u001b[49m\u001b[43m(\u001b[49m\u001b[43mlabel\u001b[49m\u001b[38;5;241;43m=\u001b[39;49m\u001b[38;5;124;43m\"\u001b[39;49m\u001b[38;5;124;43mIntroduction\u001b[39;49m\u001b[38;5;124;43m\"\u001b[39;49m\u001b[43m,\u001b[49m\u001b[43m \u001b[49m\u001b[43minteractive\u001b[49m\u001b[38;5;241;43m=\u001b[39;49m\u001b[43mtest\u001b[49m\u001b[43m)\u001b[49m:\n\u001b[0;32m     97\u001b[0m         gr\u001b[38;5;241m.\u001b[39mButton(\u001b[38;5;124m\"\u001b[39m\u001b[38;5;124mTest\u001b[39m\u001b[38;5;124m\"\u001b[39m)\n\u001b[0;32m    101\u001b[0m main\u001b[38;5;241m.\u001b[39mlaunch(inbrowser\u001b[38;5;241m=\u001b[39m\u001b[38;5;28;01mTrue\u001b[39;00m)\n",
      "File \u001b[1;32m~\\AppData\\Local\\Programs\\Python\\Python310\\lib\\site-packages\\gradio\\component_meta.py:157\u001b[0m, in \u001b[0;36mupdateable.<locals>.wrapper\u001b[1;34m(*args, **kwargs)\u001b[0m\n\u001b[0;32m    155\u001b[0m     \u001b[38;5;28;01mreturn\u001b[39;00m \u001b[38;5;28;01mNone\u001b[39;00m\n\u001b[0;32m    156\u001b[0m \u001b[38;5;28;01melse\u001b[39;00m:\n\u001b[1;32m--> 157\u001b[0m     \u001b[38;5;28;01mreturn\u001b[39;00m fn(\u001b[38;5;28mself\u001b[39m, \u001b[38;5;241m*\u001b[39m\u001b[38;5;241m*\u001b[39mkwargs)\n",
      "\u001b[1;31mTypeError\u001b[0m: Tab.__init__() got an unexpected keyword argument 'interactive'"
     ]
    }
   ],
   "source": [
    "import gradio as gr\n",
    "import pandas as pd\n",
    "import numpy as np\n",
    "from pathlib import Path\n",
    "\n",
    "data_array = [\n",
    "    {\"path\": \"projectReinforcementLearning/images/ap_1.jpg\", \"category\": \"category1\"},\n",
    "    {\"path\": \"projectReinforcementLearning/images/ap_6.jpg\", \"category\": \"category2\"},\n",
    "    # Add more image paths and categories as needed\n",
    "]\n",
    "# Initial index for displaying the first image\n",
    "current_index = 0\n",
    "# Function to update the displayed image and category\n",
    "def update_data():\n",
    "    global current_index\n",
    "    current_index = (current_index + 1) % len(data_array)\n",
    "    return data_array[current_index][\"path\"]#, data_array[current_index][\"category\"]\n",
    "    \n",
    "def save_rating(radio, slider):\n",
    "    \n",
    "    data = [{\n",
    "        \"category\" : radio,\n",
    "        \"level_of_mistake\": slider\n",
    "    }]\n",
    "    \n",
    "    df = pd.DataFrame(data)\n",
    "    print(df)\n",
    "    \n",
    "    path = Path(\"test_csv.csv\")\n",
    "    if path.is_file():\n",
    "        df.to_csv(path, mode='a', header=False, index=False)\n",
    "    else:\n",
    "        df.to_csv(path, mode='a', header=True, index=False)\n",
    "    \n",
    "def display_categories(radio):\n",
    "\n",
    "    categories_radio = gr.Radio([\"Alignement Problems\", \"Incorrect proportions\", \"Number of features\", \"Wrong Aspects\", \"unrealistic\"], interactive=True, visible=True) \n",
    "    slider = gr.Slider(minimum=0, maximum=5, step=1, interactive=True, visible=True)\n",
    "    outputs = [categories_radio, slider]\n",
    "    return outputs\n",
    "  \n",
    "with gr.Blocks() as main:\n",
    "    with gr.Tab(\"Introduction\"):\n",
    "        gr.Markdown(\n",
    "            \"\"\"\n",
    "            # Main study\n",
    "            \n",
    "            \"\"\")\n",
    "        with gr.Column():\n",
    "            \n",
    "            with gr.Row():\n",
    "                image = gr.ImageEditor(\"projectReinforcementLearning/images/ap_1.jpg\")\n",
    "            \n",
    "                \n",
    "                with gr.Column():\n",
    "                    gr.Markdown(\n",
    "                        \"\"\"\n",
    "                        # Do you spot any Mistake in this picture?\n",
    "                        \"\"\"\n",
    "                    )\n",
    "                    yes_button = gr.Button(\"YES\")\n",
    "                    # yes_button.click(display_categories, inputs=[], outputs=[gr.Radio(), gr.Slider()])\n",
    "                    no_button  = gr.Button(\"NO\")\n",
    "                    #radio = gr.Radio([\"YES\", \"NO\"], label=\"Select\")   \n",
    "                    \n",
    "                    \n",
    "                    \n",
    "                    categories_radio = gr.Radio(visible=False)\n",
    "                    \n",
    "                    slider = gr.Slider(visible=False)\n",
    "    \n",
    "                    yes_button.click(display_categories, \n",
    "                         inputs=[],\n",
    "                         outputs=[categories_radio, slider]\n",
    "                    )\n",
    "                    \n",
    "    \n",
    "                    submit_button = gr.Button(\"Submit\")\n",
    "        \n",
    "            gr.Textbox(label=\"Promt\", value=\"this is the promt\")\n",
    "                 \n",
    "                \n",
    "        \n",
    "        next = gr.Button(\"Next\")\n",
    "        next.click()\n",
    "        \n",
    "        \n",
    "        no_button.click(fn=update_data, inputs=[], outputs=[image])\n",
    "    \n",
    "        submit_button.click(\n",
    "            fn=save_rating,\n",
    "            inputs=[categories_radio, slider],\n",
    "            outputs=[]\n",
    "        )\n",
    "    \n",
    "    with gr.Tab(label=\"Introduction\"):\n",
    "        gr.Button(\"Test\")\n",
    "    \n",
    "\n",
    "\n",
    "main.launch(inbrowser=True)"
   ]
  },
  {
   "cell_type": "code",
   "execution_count": 6,
   "id": "1c1a516c-45fb-4c26-b741-712d162c1a06",
   "metadata": {},
   "outputs": [
    {
     "ename": "TypeError",
     "evalue": "Button.__init__() got an unexpected keyword argument 'action'",
     "output_type": "error",
     "traceback": [
      "\u001b[1;31m---------------------------------------------------------------------------\u001b[0m",
      "\u001b[1;31mTypeError\u001b[0m                                 Traceback (most recent call last)",
      "Cell \u001b[1;32mIn[6], line 12\u001b[0m\n\u001b[0;32m     10\u001b[0m radio_buttons \u001b[38;5;241m=\u001b[39m gr\u001b[38;5;241m.\u001b[39mRadio([\u001b[38;5;124m'\u001b[39m\u001b[38;5;124mOption 1\u001b[39m\u001b[38;5;124m'\u001b[39m, \u001b[38;5;124m'\u001b[39m\u001b[38;5;124mOption 2\u001b[39m\u001b[38;5;124m'\u001b[39m, \u001b[38;5;124m'\u001b[39m\u001b[38;5;124mOption 3\u001b[39m\u001b[38;5;124m'\u001b[39m], label\u001b[38;5;241m=\u001b[39m\u001b[38;5;124m\"\u001b[39m\u001b[38;5;124mChoose an option:\u001b[39m\u001b[38;5;124m\"\u001b[39m)\n\u001b[0;32m     11\u001b[0m slider \u001b[38;5;241m=\u001b[39m gr\u001b[38;5;241m.\u001b[39mSlider(minimum\u001b[38;5;241m=\u001b[39m\u001b[38;5;241m0\u001b[39m, maximum\u001b[38;5;241m=\u001b[39m\u001b[38;5;241m10\u001b[39m, label\u001b[38;5;241m=\u001b[39m\u001b[38;5;124m\"\u001b[39m\u001b[38;5;124mSelect a value:\u001b[39m\u001b[38;5;124m\"\u001b[39m)\n\u001b[1;32m---> 12\u001b[0m next_button \u001b[38;5;241m=\u001b[39m \u001b[43mgr\u001b[49m\u001b[38;5;241;43m.\u001b[39;49m\u001b[43mButton\u001b[49m\u001b[43m(\u001b[49m\u001b[38;5;124;43m\"\u001b[39;49m\u001b[38;5;124;43mNext\u001b[39;49m\u001b[38;5;124;43m\"\u001b[39;49m\u001b[43m,\u001b[49m\u001b[43m \u001b[49m\u001b[43maction\u001b[49m\u001b[38;5;241;43m=\u001b[39;49m\u001b[43mnext_button_click\u001b[49m\u001b[43m)\u001b[49m\n\u001b[0;32m     14\u001b[0m gr\u001b[38;5;241m.\u001b[39mInterface(fn\u001b[38;5;241m=\u001b[39m\u001b[38;5;28;01mNone\u001b[39;00m, inputs\u001b[38;5;241m=\u001b[39m[radio_buttons, slider, next_button], outputs\u001b[38;5;241m=\u001b[39m\u001b[38;5;28;01mNone\u001b[39;00m)\u001b[38;5;241m.\u001b[39mlaunch()\n",
      "File \u001b[1;32m~\\AppData\\Local\\Programs\\Python\\Python310\\lib\\site-packages\\gradio\\component_meta.py:157\u001b[0m, in \u001b[0;36mupdateable.<locals>.wrapper\u001b[1;34m(*args, **kwargs)\u001b[0m\n\u001b[0;32m    155\u001b[0m     \u001b[38;5;28;01mreturn\u001b[39;00m \u001b[38;5;28;01mNone\u001b[39;00m\n\u001b[0;32m    156\u001b[0m \u001b[38;5;28;01melse\u001b[39;00m:\n\u001b[1;32m--> 157\u001b[0m     \u001b[38;5;28;01mreturn\u001b[39;00m fn(\u001b[38;5;28mself\u001b[39m, \u001b[38;5;241m*\u001b[39m\u001b[38;5;241m*\u001b[39mkwargs)\n",
      "\u001b[1;31mTypeError\u001b[0m: Button.__init__() got an unexpected keyword argument 'action'"
     ]
    }
   ],
   "source": [
    "import gradio as gr\n",
    "\n",
    "def next_button_click(next_button):\n",
    "    # Radio-Buttons und Slider unsichtbar machen\n",
    "    radio_buttons.visibility = 'hidden'\n",
    "    slider.visibility = 'hidden'\n",
    "\n",
    "    # Hier könntest du weitere Aktionen ausführen, die nach dem Drücken des \"Next\"-Buttons ausgeführt werden sollen\n",
    "\n",
    "radio_buttons = gr.Radio(['Option 1', 'Option 2', 'Option 3'], label=\"Choose an option:\")\n",
    "slider = gr.Slider(minimum=0, maximum=10, label=\"Select a value:\")\n",
    "next_button = gr.Button(\"Next\", action=next_button_click)\n",
    "\n",
    "gr.Interface(fn=None, inputs=[radio_buttons, slider, next_button], outputs=None).launch()\n"
   ]
  },
  {
   "cell_type": "code",
   "execution_count": 1,
   "id": "758c8edd-1d29-4dd1-82c6-6972f9de747c",
   "metadata": {},
   "outputs": [],
   "source": [
    "from PIL import Image"
   ]
  },
  {
   "cell_type": "code",
   "execution_count": 4,
   "id": "5ed03f0b-8ac3-4ae3-8c82-b0ff6dc2215d",
   "metadata": {},
   "outputs": [],
   "source": [
    "img = Image.open(\"./images_training/1.jpg\")"
   ]
  },
  {
   "cell_type": "code",
   "execution_count": 8,
   "id": "f2594558-f29e-48f4-a858-9e24fc449540",
   "metadata": {},
   "outputs": [
    {
     "data": {
      "text/plain": [
       "1664"
      ]
     },
     "execution_count": 8,
     "metadata": {},
     "output_type": "execute_result"
    }
   ],
   "source": [
    "img.width"
   ]
  },
  {
   "cell_type": "code",
   "execution_count": null,
   "id": "2f37d4db-97c2-4c2b-8c4c-d28dba2ed2ea",
   "metadata": {},
   "outputs": [],
   "source": []
  }
 ],
 "metadata": {
  "kernelspec": {
   "display_name": "Python 3 (ipykernel)",
   "language": "python",
   "name": "python3"
  },
  "language_info": {
   "codemirror_mode": {
    "name": "ipython",
    "version": 3
   },
   "file_extension": ".py",
   "mimetype": "text/x-python",
   "name": "python",
   "nbconvert_exporter": "python",
   "pygments_lexer": "ipython3",
   "version": "3.10.11"
  }
 },
 "nbformat": 4,
 "nbformat_minor": 5
}
