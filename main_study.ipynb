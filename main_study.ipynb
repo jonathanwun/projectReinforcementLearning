{
 "cells": [
  {
   "cell_type": "code",
   "execution_count": 127,
   "id": "744faf55-0d84-44ae-a1ef-2f6f03a95f0e",
   "metadata": {},
   "outputs": [
    {
     "name": "stderr",
     "output_type": "stream",
     "text": [
      "C:\\Users\\kohnm\\AppData\\Local\\Programs\\Python\\Python310\\lib\\site-packages\\gradio\\utils.py:840: UserWarning: Expected 1 arguments for function <function display_categories at 0x0000029EF278B520>, received 0.\n",
      "  warnings.warn(\n",
      "C:\\Users\\kohnm\\AppData\\Local\\Programs\\Python\\Python310\\lib\\site-packages\\gradio\\utils.py:844: UserWarning: Expected at least 1 arguments for function <function display_categories at 0x0000029EF278B520>, received 0.\n",
      "  warnings.warn(\n"
     ]
    },
    {
     "name": "stdout",
     "output_type": "stream",
     "text": [
      "Running on local URL:  http://127.0.0.1:7954\n",
      "\n",
      "To create a public link, set `share=True` in `launch()`.\n"
     ]
    },
    {
     "data": {
      "text/html": [
       "<div><iframe src=\"http://127.0.0.1:7954/\" width=\"100%\" height=\"500\" allow=\"autoplay; camera; microphone; clipboard-read; clipboard-write;\" frameborder=\"0\" allowfullscreen></iframe></div>"
      ],
      "text/plain": [
       "<IPython.core.display.HTML object>"
      ]
     },
     "metadata": {},
     "output_type": "display_data"
    },
    {
     "data": {
      "text/plain": []
     },
     "execution_count": 127,
     "metadata": {},
     "output_type": "execute_result"
    },
    {
     "name": "stderr",
     "output_type": "stream",
     "text": [
      "C:\\Users\\kohnm\\AppData\\Local\\Programs\\Python\\Python310\\lib\\site-packages\\gradio\\helpers.py:837: UserWarning: Unexpected argument. Filling with None.\n",
      "  warnings.warn(\"Unexpected argument. Filling with None.\")\n"
     ]
    },
    {
     "name": "stdout",
     "output_type": "stream",
     "text": [
      "             category  level_of_mistake\n",
      "0  Number of features                 0\n",
      "             category  level_of_mistake\n",
      "0  Number of features                 0\n"
     ]
    }
   ],
   "source": [
    "import gradio as gr\n",
    "import pandas as pd\n",
    "import numpy as np\n",
    "from pathlib import Path\n",
    "\n",
    "data_array = [\n",
    "    {\"path\": \"projectReinforcementLearning/images/ap_1.jpg\", \"category\": \"category1\"},\n",
    "    {\"path\": \"projectReinforcementLearning/images/ap_6.jpg\", \"category\": \"category2\"},\n",
    "    # Add more image paths and categories as needed\n",
    "]\n",
    "# Initial index for displaying the first image\n",
    "current_index = 0\n",
    "# Function to update the displayed image and category\n",
    "def update_data():\n",
    "    global current_index\n",
    "    current_index = (current_index + 1) % len(data_array)\n",
    "    return data_array[current_index][\"path\"]#, data_array[current_index][\"category\"]\n",
    "    \n",
    "def save_rating(radio, slider):\n",
    "    \n",
    "    data = [{\n",
    "        \"category\" : radio,\n",
    "        \"level_of_mistake\": slider\n",
    "    }]\n",
    "    \n",
    "    df = pd.DataFrame(data)\n",
    "    print(df)\n",
    "    \n",
    "    path = Path(\"test_csv.csv\")\n",
    "    if path.is_file():\n",
    "        df.to_csv(path, mode='a', header=False, index=False)\n",
    "    else:\n",
    "        df.to_csv(path, mode='a', header=True, index=False)\n",
    "    \n",
    "def display_categories(radio):\n",
    "\n",
    "    categories_radio = gr.Radio([\"Alignement Problems\", \"Incorrect proportions\", \"Number of features\", \"Wrong Aspects\", \"unrealistic\"], interactive=True, visible=True) \n",
    "    slider = gr.Slider(minimum=0, maximum=5, step=1, interactive=True, visible=True)\n",
    "    outputs = [categories_radio, slider]\n",
    "    return outputs\n",
    "  \n",
    "with gr.Blocks() as main:\n",
    "    gr.Markdown(\n",
    "        \"\"\"\n",
    "        # Main study\n",
    "        \n",
    "        \"\"\")\n",
    "    with gr.Column():\n",
    "        \n",
    "        with gr.Row():\n",
    "            image = gr.ImageEditor(\"projectReinforcementLearning/images/ap_1.jpg\")\n",
    "        \n",
    "            \n",
    "            with gr.Column():\n",
    "                gr.Markdown(\n",
    "                    \"\"\"\n",
    "                    # Do you spot any Mistake in this picture?\n",
    "                    \"\"\"\n",
    "                )\n",
    "                yes_button = gr.Button(\"YES\")\n",
    "                # yes_button.click(display_categories, inputs=[], outputs=[gr.Radio(), gr.Slider()])\n",
    "                no_button  = gr.Button(\"NO\")\n",
    "                #radio = gr.Radio([\"YES\", \"NO\"], label=\"Select\")   \n",
    "                \n",
    "                \n",
    "                \n",
    "                categories_radio = gr.Radio(visible=False)\n",
    "                \n",
    "                slider = gr.Slider(visible=False)\n",
    "\n",
    "                yes_button.click(display_categories, \n",
    "                     inputs=[],\n",
    "                     outputs=[categories_radio, slider]\n",
    "                )\n",
    "                \n",
    "\n",
    "                submit_button = gr.Button(\"Submit\")\n",
    "    \n",
    "        gr.Textbox(label=\"Promt\", value=\"this is the promt\")\n",
    "             \n",
    "            \n",
    "    \n",
    "    next = gr.Button(\"Next\")\n",
    "    next.click()\n",
    "    \n",
    "    \n",
    "    no_button.click(fn=update_data, inputs=[], outputs=[image])\n",
    "\n",
    "    submit_button.click(\n",
    "        fn=save_rating,\n",
    "        inputs=[categories_radio, slider],\n",
    "        outputs=[]\n",
    "    )\n",
    "    \n",
    "\n",
    "\n",
    "main.launch(inbrowser=True)"
   ]
  },
  {
   "cell_type": "code",
   "execution_count": null,
   "id": "6a033e63-caff-4fb6-b4f1-aa2eddc68415",
   "metadata": {},
   "outputs": [],
   "source": []
  }
 ],
 "metadata": {
  "kernelspec": {
   "display_name": "Python 3 (ipykernel)",
   "language": "python",
   "name": "python3"
  },
  "language_info": {
   "codemirror_mode": {
    "name": "ipython",
    "version": 3
   },
   "file_extension": ".py",
   "mimetype": "text/x-python",
   "name": "python",
   "nbconvert_exporter": "python",
   "pygments_lexer": "ipython3",
   "version": "3.10.11"
  }
 },
 "nbformat": 4,
 "nbformat_minor": 5
}
